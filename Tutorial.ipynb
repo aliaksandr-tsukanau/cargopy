{
 "cells": [
  {
   "cell_type": "markdown",
   "metadata": {},
   "source": [
    "# How to run this?\n",
    "\n",
    "`Handler` is a component to implement the logic. The easiest way to run it is with an `Executor`"
   ]
  },
  {
   "cell_type": "code",
   "execution_count": 2,
   "metadata": {},
   "outputs": [],
   "source": [
    "import os\n",
    "\n",
    "import logging\n",
    "\n",
    "os.environ['PROJECT'] = 'my_shiny_project'\n",
    "os.environ['GOOGLE_APPLICATION_CREDENTIALS'] = '/cfg/creds.json'\n",
    "\n",
    "logging.basicConfig(level=logging.INFO)\n",
    "\n",
    "logging.getLogger('happyly').setLevel(logging.INFO)\n",
    "logging.getLogger('google').propagate = False"
   ]
  },
  {
   "cell_type": "code",
   "execution_count": 3,
   "metadata": {},
   "outputs": [
    {
     "name": "stderr",
     "output_type": "stream",
     "text": [
      "INFO:happyly.listening.executor:Message handled, status HandlingResultStatus.OK\n"
     ]
    },
    {
     "name": "stdout",
     "output_type": "stream",
     "text": [
      "Hello, world\n"
     ]
    }
   ],
   "source": [
    "from happyly import Handler, Executor\n",
    "\n",
    "\n",
    "class MyHandler(Handler):\n",
    "\n",
    "    def handle(self, _):\n",
    "        print('Hello, world')\n",
    "\n",
    "    def on_handling_failed(self, _, error: Exception):\n",
    "        # notice that you have to explicitly handle errors, otherwise class will not be instantiated\n",
    "        print(repr(error))\n",
    "\n",
    "\n",
    "if __name__ == '__main__':\n",
    "    executor = Executor(\n",
    "        handler=MyHandler(),\n",
    "    )\n",
    "\n",
    "    executor.run()"
   ]
  },
  {
   "cell_type": "markdown",
   "metadata": {},
   "source": [
    "# Executor? Handler? Why can't I just call my function!\n",
    "As it is shown further, these are super extensible components for message handling. If you are being impatient, happyly provides high-level components. Let's use the same handler with a very easy to use `GoogleSimpleReceiver`:"
   ]
  },
  {
   "cell_type": "code",
   "execution_count": 7,
   "metadata": {},
   "outputs": [
    {
     "name": "stderr",
     "output_type": "stream",
     "text": [
      "INFO:happyly.google_pubsub.subscribers:Starting to listen to happyly_testing_01\n",
      "INFO:happyly.listening.executor:Received message:\n",
      " Message {\n",
      "  data: b'{\"request_id\": \"spam\"}'\n",
      "  attributes: {}\n",
      "}\n",
      "INFO:happyly.listening.executor:Message handled, status HandlingResultStatus.OK\n"
     ]
    },
    {
     "name": "stdout",
     "output_type": "stream",
     "text": [
      "Hello, world\n",
      "Request id is spam\n"
     ]
    }
   ],
   "source": [
    "from marshmallow import fields\n",
    "\n",
    "import happyly\n",
    "from happyly.google_pubsub import GoogleSimpleReceiver\n",
    "\n",
    "\n",
    "class InputSchema(happyly.Schema):\n",
    "    request_id = fields.Str(required=True)\n",
    "\n",
    "\n",
    "class MyHandler(Handler):\n",
    "\n",
    "    def handle(self, message):\n",
    "        print('Hello, world')\n",
    "        print(f'Request id is {message[\"request_id\"]}')\n",
    "\n",
    "    def on_handling_failed(self, message, error: Exception):\n",
    "        print(repr(error))\n",
    "\n",
    "\n",
    "if __name__ == '__main__':\n",
    "    # auth setup here if needed\n",
    "\n",
    "    future = GoogleSimpleReceiver(\n",
    "        handler=MyHandler(),\n",
    "        input_schema=InputSchema(),\n",
    "        from_subscription='happyly_testing_01',\n",
    "        project=os.environ['PROJECT'],\n",
    "    ).start_listening()\n",
    "\n",
    "    try:\n",
    "        future.result()\n",
    "    except KeyboardInterrupt:\n",
    "        future.cancel()"
   ]
  },
  {
   "cell_type": "markdown",
   "metadata": {},
   "source": [
    "`GoogleSimpleReceiver` subscribes via Google Pub/Sub subscription and listens for new messages infinitely. Usage of this component is so simple because of default assumptions: that you would use UTF-8 encoded JSON format in `message.data` for messaging and that your schema contains \"request_id\". But you can use any custom serializers and deserizers, as well as custom subscribers and publishers for any Pub/Sub tool (not only Google's). Notice how `Handler` operates on message attributes in the form of `dict`. `Handler` contains only logic and doesn't need to be changed if you change serialization format or Pub/Sub technology."
   ]
  },
  {
   "cell_type": "markdown",
   "metadata": {},
   "source": [
    "# Ok, here is the Sub. Is there some similar Pub component?\n",
    "Sure! Check out `GoogleSimpleSender`!"
   ]
  },
  {
   "cell_type": "code",
   "execution_count": 8,
   "metadata": {},
   "outputs": [
    {
     "name": "stderr",
     "output_type": "stream",
     "text": [
      "INFO:happyly.listening.executor:Message handled, status HandlingResultStatus.OK\n",
      "INFO:happyly.listening.executor:Published result:\n",
      "HandlingResult(status=<HandlingResultStatus.OK: 'OK'>, data={'request_id': 'spam', 'label': 'eggs'})\n"
     ]
    }
   ],
   "source": [
    "from happyly.google_pubsub import GoogleSimpleSender\n",
    "\n",
    "\n",
    "class OutputSchema(happyly.Schema):\n",
    "    request_id = fields.Str()\n",
    "    label = fields.Str()\n",
    "\n",
    "\n",
    "class MyHandler(Handler):\n",
    "\n",
    "    def handle(self, message):\n",
    "        return {\n",
    "            'request_id': 'spam',\n",
    "            'label': \"eggs\"\n",
    "        }\n",
    "\n",
    "    def on_handling_failed(self, message, error: Exception):\n",
    "        print(repr(error))\n",
    "\n",
    "\n",
    "if __name__ == '__main__':\n",
    "    # auth setup here if needed\n",
    "\n",
    "    GoogleSimpleSender(\n",
    "        handler=MyHandler(),\n",
    "        output_schema=OutputSchema(),\n",
    "        to_topic='happyly_testing',\n",
    "        project=os.environ['PROJECT'],\n",
    "    ).run()"
   ]
  },
  {
   "cell_type": "markdown",
   "metadata": {},
   "source": [
    "And you can even listen and reply with `GoogleSimpleReceiveAndReply`:"
   ]
  },
  {
   "cell_type": "code",
   "execution_count": 9,
   "metadata": {},
   "outputs": [
    {
     "name": "stderr",
     "output_type": "stream",
     "text": [
      "INFO:happyly.google_pubsub.subscribers:Starting to listen to happyly_testing_01\n",
      "INFO:happyly.listening.executor:Received message:\n",
      " Message {\n",
      "  data: b'{\"label\": \"eggs\", \"request_id\": \"spam\"}'\n",
      "  attributes: {}\n",
      "}\n",
      "INFO:happyly.listening.executor:Message handled, status HandlingResultStatus.OK\n"
     ]
    },
    {
     "name": "stdout",
     "output_type": "stream",
     "text": [
      "eggs\n"
     ]
    },
    {
     "name": "stderr",
     "output_type": "stream",
     "text": [
      "INFO:happyly.listening.executor:Published result:\n",
      "HandlingResult(status=<HandlingResultStatus.OK: 'OK'>, data={'request_id': 'spam', 'info': 'eggs'})\n"
     ]
    }
   ],
   "source": [
    "from happyly.google_pubsub import GoogleSimpleReceiveAndReply\n",
    "\n",
    "\n",
    "class InputSchema(happyly.Schema):\n",
    "    request_id = fields.Str(required=True)\n",
    "    label = fields.Str(request_id=True)\n",
    "\n",
    "\n",
    "class OutputSchema(happyly.Schema):\n",
    "    request_id = fields.Str(required=True)\n",
    "    info = fields.Str(request_id=True)\n",
    "\n",
    "\n",
    "class MyHandler(Handler):\n",
    "\n",
    "    def handle(self, message):\n",
    "        print(message['label'])\n",
    "        return {\n",
    "            'request_id': message['request_id'],\n",
    "            'info': \"eggs\"\n",
    "        }\n",
    "\n",
    "    def on_handling_failed(self, message, error: Exception):\n",
    "        print(repr(error))\n",
    "\n",
    "\n",
    "if __name__ == '__main__':\n",
    "    # auth setup here if needed\n",
    "\n",
    "    future = GoogleSimpleReceiveAndReply(\n",
    "        handler=MyHandler(),\n",
    "        input_schema=InputSchema(),\n",
    "        from_subscription='happyly_testing_01',\n",
    "        output_schema=OutputSchema(),\n",
    "        to_topic='happyly_testing_out',\n",
    "        project=os.environ['PROJECT'],\n",
    "    ).start_listening()\n",
    "\n",
    "    try:\n",
    "        future.result()\n",
    "    except KeyboardInterrupt:\n",
    "        future.cancel()\n"
   ]
  },
  {
   "cell_type": "markdown",
   "metadata": {},
   "source": [
    "And even more: there are `Cached` components for easy Redis backups."
   ]
  },
  {
   "cell_type": "code",
   "execution_count": 10,
   "metadata": {},
   "outputs": [
    {
     "name": "stderr",
     "output_type": "stream",
     "text": [
      "INFO:happyly.google_pubsub.redis_cacher:Cache was successfully initialized with Redis client (localhost:6379)\n",
      "INFO:happyly.google_pubsub.subscribers:Starting to listen to happyly_testing_01\n",
      "INFO:happyly.listening.executor:Received message:\n",
      " Message {\n",
      "  data: b'{\"request_id\": \"spam\", \"label\": \"for cache\"}'\n",
      "  attributes: {}\n",
      "}\n",
      "INFO:happyly.google_pubsub.redis_cacher:Cached message with id spam\n"
     ]
    },
    {
     "name": "stdout",
     "output_type": "stream",
     "text": [
      "for cache\n",
      "Press Ctrl+C now to shut down, then go check the cache\n"
     ]
    },
    {
     "name": "stderr",
     "output_type": "stream",
     "text": [
      "INFO:happyly.listening.executor:Message handled, status HandlingResultStatus.OK\n",
      "INFO:happyly.listening.executor:Published result:\n",
      "HandlingResult(status=<HandlingResultStatus.OK: 'OK'>, data={'request_id': 'spam', 'info': 'eggs'})\n",
      "INFO:happyly.google_pubsub.redis_cacher:Message with id spam was removed from cache\n"
     ]
    }
   ],
   "source": [
    "import time\n",
    "\n",
    "from happyly.google_pubsub import GoogleCachedReceiveAndReply\n",
    "from happyly.google_pubsub import RedisCacher\n",
    "\n",
    "\n",
    "class InputSchema(happyly.Schema):\n",
    "    request_id = fields.Str(required=True)\n",
    "    label = fields.Str(request_id=True)\n",
    "\n",
    "\n",
    "class OutputSchema(happyly.Schema):\n",
    "    request_id = fields.Str(required=True)\n",
    "    info = fields.Str(request_id=True)\n",
    "\n",
    "\n",
    "class MyHandler(Handler):\n",
    "\n",
    "    def handle(self, message):\n",
    "        print(message['label'])\n",
    "        print('Press Ctrl+C now to shut down, then go check the cache')\n",
    "        time.sleep(5)\n",
    "        return {\n",
    "            'request_id': message['request_id'],\n",
    "            'info': \"eggs\"\n",
    "        }\n",
    "\n",
    "    def on_handling_failed(self, message, error: Exception):\n",
    "        print(repr(error))\n",
    "\n",
    "\n",
    "if __name__ == '__main__':\n",
    "    # auth setup here if needed\n",
    "\n",
    "    future = GoogleCachedReceiveAndReply(\n",
    "        handler=MyHandler(),\n",
    "        input_schema=InputSchema(),\n",
    "        from_subscription='happyly_testing_01',\n",
    "        from_topic='happyly_testing',\n",
    "        output_schema=OutputSchema(),\n",
    "        to_topic='happyly_testing_out',\n",
    "        project=os.environ['PROJECT'],\n",
    "        cacher=RedisCacher(host='localhost', port=6379)\n",
    "    ).start_listening()\n",
    "\n",
    "    try:\n",
    "        future.result()\n",
    "    except KeyboardInterrupt:\n",
    "        future.cancel()\n"
   ]
  },
  {
   "cell_type": "markdown",
   "metadata": {},
   "source": [
    "# What about some more customization?\n",
    "You can use lower-level classes. For subscriptions there is a class `Listener`, which requires a subscriber and a deserializer. You can swap subscriber and deserializer to other implementations or use ones provided by happyly."
   ]
  },
  {
   "cell_type": "code",
   "execution_count": 11,
   "metadata": {},
   "outputs": [
    {
     "name": "stderr",
     "output_type": "stream",
     "text": [
      "INFO:happyly.google_pubsub.subscribers:Starting to listen to happyly_testing_01\n",
      "INFO:happyly.listening.executor:Received message:\n",
      " Message {\n",
      "  data: b'{\"request_id\": \"spam\", \"info\": \"eggs\"}'\n",
      "  attributes: {}\n",
      "}\n",
      "INFO:happyly.listening.executor:Message handled, status HandlingResultStatus.OK\n"
     ]
    },
    {
     "name": "stdout",
     "output_type": "stream",
     "text": [
      "Received message with 2 attributes\n",
      "request id is spam\n",
      "info is eggs\n"
     ]
    }
   ],
   "source": [
    "from happyly.google_pubsub import JSONDeserializerWithRequestIdRequired\n",
    "from happyly.google_pubsub import GooglePubSubSubscriber\n",
    "from happyly import Listener\n",
    "\n",
    "\n",
    "class MySchema(happyly.Schema):\n",
    "    request_id = fields.Str(required=True)\n",
    "    info = fields.Str(required=True)\n",
    "\n",
    "\n",
    "class MyHandler(Handler):\n",
    "\n",
    "    def handle(self, message):\n",
    "        print(f'Received message with {len(message)} attributes')\n",
    "        print(f'request id is {message[\"request_id\"]}')\n",
    "        print(f'info is {message[\"info\"]}')\n",
    "\n",
    "    def on_handling_failed(self, message, error: Exception):\n",
    "        print(repr(error))\n",
    "\n",
    "\n",
    "if __name__ == '__main__':\n",
    "    # auth setup here if needed\n",
    "\n",
    "    listener = Listener(\n",
    "        handler=MyHandler(),\n",
    "        deserializer=JSONDeserializerWithRequestIdRequired(\n",
    "            schema=MySchema()\n",
    "        ),\n",
    "        subscriber=GooglePubSubSubscriber(\n",
    "            project=os.environ['PROJECT'],\n",
    "            subscription_name='happyly_testing_01'\n",
    "        ),\n",
    "    )\n",
    "    future = listener.start_listening()\n",
    "    try:\n",
    "        future.result()\n",
    "    except KeyboardInterrupt:\n",
    "        future.cancel()"
   ]
  },
  {
   "cell_type": "markdown",
   "metadata": {},
   "source": [
    "# Why yet another component: a deserializer?\n",
    "Imagine you switch from Google Pub/Sub to another tool. Or probably you change the way you store message attributes from JSON to protobuf. Not a problem - just take or implement another `Deserializer` and the `Handler` with actual logic stays unchanged! Notice that here:"
   ]
  },
  {
   "cell_type": "code",
   "execution_count": null,
   "metadata": {},
   "outputs": [],
   "source": [
    "def handle(self, message):"
   ]
  },
  {
   "cell_type": "markdown",
   "metadata": {},
   "source": [
    "message is just a Python dict. "
   ]
  },
  {
   "cell_type": "markdown",
   "metadata": {},
   "source": [
    "# Can I do similar customization for publishing?\n",
    "Yep! Make sure `Handler.handle` returns a dict, then add Serializer and Publisher to the `Executor`. Or to `Listener` if you want to publish as a reaction to received message. Let's see:"
   ]
  },
  {
   "cell_type": "code",
   "execution_count": 13,
   "metadata": {},
   "outputs": [
    {
     "name": "stderr",
     "output_type": "stream",
     "text": [
      "INFO:happyly.listening.executor:Message handled, status HandlingResultStatus.OK\n"
     ]
    },
    {
     "name": "stdout",
     "output_type": "stream",
     "text": [
      "Publishing......\n"
     ]
    },
    {
     "name": "stderr",
     "output_type": "stream",
     "text": [
      "INFO:happyly.listening.executor:Published result:\n",
      "HandlingResult(status=<HandlingResultStatus.OK: 'OK'>, data={'request_id': 'hello', 'code': 123})\n"
     ]
    }
   ],
   "source": [
    "from happyly.google_pubsub import GooglePubSubPublisher\n",
    "from happyly.google_pubsub import BinaryJSONSerializer\n",
    "\n",
    "\n",
    "class OutputSchema(happyly.Schema):\n",
    "    request_id = fields.Str(required=True)\n",
    "    code = fields.Int(required=True)\n",
    "\n",
    "\n",
    "class MyHandler(Handler):\n",
    "\n",
    "    def handle(self, message):\n",
    "        print('Publishing......')\n",
    "        return {\n",
    "            'request_id': \"hello\",\n",
    "            'code': 123,\n",
    "        }\n",
    "\n",
    "    def on_handling_failed(self, message, error: Exception):\n",
    "        print(repr(error))\n",
    "\n",
    "\n",
    "if __name__ == '__main__':\n",
    "    # set up auth if needed here\n",
    "    serializer = BinaryJSONSerializer(OutputSchema())\n",
    "\n",
    "    Executor(\n",
    "        handler=MyHandler(),\n",
    "        publisher=GooglePubSubPublisher(\n",
    "            serializer=serializer,\n",
    "            publish_all_to='happyly_testing',\n",
    "            project=os.environ['PROJECT'],\n",
    "        )\n",
    "    ).run()"
   ]
  },
  {
   "cell_type": "markdown",
   "metadata": {},
   "source": [
    "# Let's say i want to implement my own serializer. Or publisher. Or subscriber. How do I do that?\n",
    "That's easy! Subclass the corresponding abstract base class and implement all abstract methods. That's it, a new component is ready for use."
   ]
  },
  {
   "cell_type": "code",
   "execution_count": 14,
   "metadata": {},
   "outputs": [],
   "source": [
    "import json\n",
    "from typing import Any, Mapping\n",
    "\n",
    "from happyly import Deserializer\n",
    "\n",
    "\n",
    "class MyOwnDeserializer(Deserializer):\n",
    "\n",
    "    def deserialize(self, message: Any) -> Mapping[str, Any]:\n",
    "        return json.loads(message.attributes)\n",
    "\n",
    "    def build_error_result(self, message: Any, error: Exception) -> Mapping[str, Any]:\n",
    "        return {\n",
    "            'request_id': message.attributes['request_id'],\n",
    "            'status': 'ERROR',\n",
    "            'error': repr(error),\n",
    "        }"
   ]
  },
  {
   "cell_type": "markdown",
   "metadata": {},
   "source": [
    "# I want to add more operations\n",
    "You might want to use callbacks. Please first call base method."
   ]
  },
  {
   "cell_type": "code",
   "execution_count": 16,
   "metadata": {},
   "outputs": [],
   "source": [
    "from happyly import Listener\n",
    "\n",
    "import my_own_pretty_cache\n",
    "\n",
    "\n",
    "class ListenerWithCaching(Listener):\n",
    "    \n",
    "    def on_received(self, message: Any):\n",
    "        super().on_received(message)\n",
    "        my_own_pretty_cache.save(message)"
   ]
  },
  {
   "cell_type": "markdown",
   "metadata": {},
   "source": [
    "Hopefully you will use the library happily :)"
   ]
  }
 ],
 "metadata": {
  "kernelspec": {
   "display_name": "happyly",
   "language": "python",
   "name": "happyly"
  },
  "language_info": {
   "codemirror_mode": {
    "name": "ipython",
    "version": 3
   },
   "file_extension": ".py",
   "mimetype": "text/x-python",
   "name": "python",
   "nbconvert_exporter": "python",
   "pygments_lexer": "ipython3",
   "version": "3.6.7"
  }
 },
 "nbformat": 4,
 "nbformat_minor": 2
}
