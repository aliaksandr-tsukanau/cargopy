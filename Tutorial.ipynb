{
 "cells": [
  {
   "cell_type": "markdown",
   "metadata": {},
   "source": [
    "# How to run this?\n",
    "\n",
    "`Handler` is a component to implement the logic. The easiest way to run it is with an `Executor`"
   ]
  },
  {
   "cell_type": "code",
   "execution_count": 4,
   "metadata": {},
   "outputs": [
    {
     "name": "stdout",
     "output_type": "stream",
     "text": [
      "Hello, world\n"
     ]
    }
   ],
   "source": [
    "from happyly.handling import Handler\n",
    "from happyly.handling.types import ParsedMessage\n",
    "from happyly.listening.executor import Executor\n",
    "\n",
    "\n",
    "class MyHandler(Handler):\n",
    "\n",
    "    def handle(self, _):\n",
    "        print('Hello, world')\n",
    "\n",
    "    def on_handling_failed(self, _, error: Exception):\n",
    "        # notice that you have to explicitely handle errors, otherwise class will not be instanciated\n",
    "        print(repr(error))\n",
    "\n",
    "\n",
    "if __name__ == '__main__':\n",
    "    executor = Executor(\n",
    "        handler=MyHandler(),\n",
    "    )\n",
    "\n",
    "    executor.run()"
   ]
  },
  {
   "cell_type": "markdown",
   "metadata": {},
   "source": [
    "# Executor? Handler? Why can't I just call my function!\n",
    "For example, let's see how easy it is to use a subscriber for Google Pub/Sub mapped to your marshmallow message schema:"
   ]
  },
  {
   "cell_type": "code",
   "execution_count": 5,
   "metadata": {},
   "outputs": [
    {
     "name": "stdout",
     "output_type": "stream",
     "text": [
      "Received message with 2 attributes\n",
      "request id is spam\n",
      "info is eggs\n"
     ]
    }
   ],
   "source": [
    "import marshmallow\n",
    "from marshmallow import fields\n",
    "\n",
    "from happyly.google_pubsub.deserializers import JSONDeserializerWithRequestIdRequired\n",
    "from happyly.google_pubsub.subscribers import GooglePubSubSubscriber\n",
    "from happyly.handling import Handler\n",
    "from happyly.listening import Listener\n",
    "\n",
    "\n",
    "class MySchema(marshmallow.Schema):\n",
    "    request_id = fields.Str(required=True)\n",
    "    info = fields.Str(required=True)\n",
    "\n",
    "\n",
    "class MyHandler(Handler):\n",
    "\n",
    "    def handle(self, message):\n",
    "        print(f'Received message with {len(message)} attributes')\n",
    "        print(f'request id is {message[\"request_id\"]}')\n",
    "        print(f'info is {message[\"info\"]}')\n",
    "\n",
    "    def on_handling_failed(self, message, error: Exception):\n",
    "        print(repr(error))\n",
    "\n",
    "\n",
    "if __name__ == '__main__':\n",
    "    # set up auth if needed here\n",
    "\n",
    "    listener = Listener(\n",
    "        handler=MyHandler(),\n",
    "        deserializer=JSONDeserializerWithRequestIdRequired(\n",
    "            schema=MySchema(strict=True)\n",
    "        ),\n",
    "        subscriber=GooglePubSubSubscriber(\n",
    "            project='machinaseptember2016',\n",
    "            subscription_name='happyly_testing_01'\n",
    "        )\n",
    "    )\n",
    "    future = listener.start_listening()\n",
    "    try:\n",
    "        future.result()\n",
    "    except KeyboardInterrupt:\n",
    "        future.cancel()\n"
   ]
  },
  {
   "cell_type": "markdown",
   "metadata": {},
   "source": [
    "# What is a `Listener`?\n",
    "A `Listener` is an `Executor` with a `Subscriber`. Notice how you don't need to run `run` but just `start_listening`.\n",
    "\n",
    "You can use a pre-made subscriber from happyly for certain Pub/Sub technology. Here we've used `GooglePubSubSubscriber`, but you can create your own by subclassing `Subscriber`."
   ]
  },
  {
   "cell_type": "markdown",
   "metadata": {},
   "source": [
    "# Why yet another component: a deserializer?\n",
    "Imagine you switch from Google Pub/Sub to another tool. Or probably you change the way you store message attributes from JSON to protobuf. Not a problem - just take or implement another `Deserializer` and the `Handler` with actual logic stays unchanged! Notice that here:"
   ]
  },
  {
   "cell_type": "code",
   "execution_count": null,
   "metadata": {},
   "outputs": [],
   "source": [
    "def handle(self, message):"
   ]
  },
  {
   "cell_type": "markdown",
   "metadata": {},
   "source": [
    "message is just a Python dict. "
   ]
  },
  {
   "cell_type": "markdown",
   "metadata": {},
   "source": [
    "# Cool, we've got the Sub. What about the Pub?\n",
    "Use the same things as you did before. Make `Handler.handle` return a dict, then add Serializer and Publisher to the `Listener`. Or to `Executor`. Let's see:"
   ]
  },
  {
   "cell_type": "code",
   "execution_count": 11,
   "metadata": {},
   "outputs": [
    {
     "name": "stdout",
     "output_type": "stream",
     "text": [
      "Publishing......\n"
     ]
    }
   ],
   "source": [
    "from collections import namedtuple\n",
    "\n",
    "import marshmallow\n",
    "from marshmallow import fields\n",
    "\n",
    "from happyly.google_pubsub.deserializers import JSONDeserializerWithRequestIdRequired\n",
    "from happyly.google_pubsub.publishers import GooglePubSubPublisher\n",
    "from happyly.google_pubsub.serializers import BinaryJSONSerializer\n",
    "from happyly.handling import Handler\n",
    "from happyly.listening.executor import Executor\n",
    "\n",
    "\n",
    "class InputSchema(marshmallow.Schema):\n",
    "    request_id = fields.Str(required=True)\n",
    "\n",
    "\n",
    "class OutputSchema(marshmallow.Schema):\n",
    "    request_id = fields.Str(required=True)\n",
    "    code = fields.Int(required=True)\n",
    "\n",
    "\n",
    "class MyHandler(Handler):\n",
    "\n",
    "    def handle(self, message):\n",
    "        print('Publishing......')\n",
    "        return {\n",
    "            'request_id': message['request_id'],\n",
    "            'code': 123,\n",
    "        }\n",
    "\n",
    "    def on_handling_failed(self, message, error: Exception):\n",
    "        print(repr(error))\n",
    "\n",
    "\n",
    "if __name__ == '__main__':\n",
    "    # set up auth if needed here\n",
    "\n",
    "    deserializer = JSONDeserializerWithRequestIdRequired(InputSchema(strict=True))\n",
    "    serializer = BinaryJSONSerializer(OutputSchema(strict=True))\n",
    "\n",
    "    listener = Executor(\n",
    "        handler=MyHandler(),\n",
    "        deserializer=deserializer,\n",
    "        publisher=GooglePubSubPublisher(\n",
    "            serializer=serializer,\n",
    "            publish_all_to='happyly_testing',\n",
    "            project='machinaseptember2016',\n",
    "        )\n",
    "    )\n",
    "    msg = namedtuple('MessageMock', 'data')(b'{\"request_id\": \"123\"}')\n",
    "    listener.run(msg)"
   ]
  },
  {
   "cell_type": "code",
   "execution_count": null,
   "metadata": {},
   "outputs": [],
   "source": []
  },
  {
   "cell_type": "code",
   "execution_count": null,
   "metadata": {},
   "outputs": [],
   "source": []
  }
 ],
 "metadata": {
  "kernelspec": {
   "display_name": "happyly",
   "language": "python",
   "name": "happyly"
  },
  "language_info": {
   "codemirror_mode": {
    "name": "ipython",
    "version": 3
   },
   "file_extension": ".py",
   "mimetype": "text/x-python",
   "name": "python",
   "nbconvert_exporter": "python",
   "pygments_lexer": "ipython3",
   "version": "3.6.7"
  }
 },
 "nbformat": 4,
 "nbformat_minor": 2
}
